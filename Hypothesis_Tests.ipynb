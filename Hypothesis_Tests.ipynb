{
 "cells": [
  {
   "cell_type": "markdown",
   "metadata": {
    "id": "5vfftIaoTEa8"
   },
   "source": [
    "# Calculating Statistical Significance for Hypothesis Tests in CRO Pod\n",
    "<br>\n",
    "\n",
    "### Last updated: 2023-06-01\n",
    "\n",
    "<br>\n",
    "<br>\n",
    "This notebook connects to the GA API to return data with the AB test variant identifiers. Hypothesis tests are then run to calculate statistical significance between control and variant groups."
   ]
  },
  {
   "cell_type": "markdown",
   "metadata": {
    "id": "NyDI3VC8CdFr"
   },
   "source": [
    "## Load and mount the necessary Google Drive stuff"
   ]
  },
  {
   "cell_type": "code",
   "execution_count": null,
   "metadata": {
    "id": "OIU1ldt7dYlS"
   },
   "outputs": [],
   "source": [
    "# see all packages installed\n",
    "# pip freeze"
   ]
  },
  {
   "cell_type": "code",
   "execution_count": 8,
   "metadata": {
    "executionInfo": {
     "elapsed": 1091,
     "status": "ok",
     "timestamp": 1685647757330,
     "user": {
      "displayName": "Mitch Leeson",
      "userId": "11221494451302042152"
     },
     "user_tz": 240
    },
    "id": "NBqB-3448ao2"
   },
   "outputs": [],
   "source": [
    "import pandas as pd\n",
    "\n",
    "from google.colab import auth\n",
    "auth.authenticate_user()\n",
    "\n",
    "# import gspread\n",
    "# from google.auth import default\n",
    "# creds, _ = default()\n",
    "\n",
    "# gc = gspread.authorize(creds)"
   ]
  },
  {
   "cell_type": "code",
   "execution_count": 1,
   "metadata": {
    "colab": {
     "base_uri": "https://localhost:8080/"
    },
    "executionInfo": {
     "elapsed": 1403,
     "status": "ok",
     "timestamp": 1685647384539,
     "user": {
      "displayName": "Mitch Leeson",
      "userId": "11221494451302042152"
     },
     "user_tz": 240
    },
    "id": "JTygIPh4ApGL",
    "outputId": "12a77292-1a8b-4879-98fc-f8c785aebc79"
   },
   "outputs": [
    {
     "name": "stdout",
     "output_type": "stream",
     "text": [
      "Drive already mounted at /content/drive; to attempt to forcibly remount, call drive.mount(\"/content/drive\", force_remount=True).\n"
     ]
    }
   ],
   "source": [
    "from google.colab import drive\n",
    "drive.mount('/content/drive')"
   ]
  },
  {
   "cell_type": "markdown",
   "metadata": {
    "id": "z6rj4-x97IxL"
   },
   "source": [
    "## Load the GA data"
   ]
  },
  {
   "cell_type": "code",
   "execution_count": 2,
   "metadata": {
    "executionInfo": {
     "elapsed": 1067,
     "status": "ok",
     "timestamp": 1685647389946,
     "user": {
      "displayName": "Mitch Leeson",
      "userId": "11221494451302042152"
     },
     "user_tz": 240
    },
    "id": "uN_sqsZyBUpl"
   },
   "outputs": [],
   "source": [
    "# https://www.jcchouinard.com/google-analytics-api-using-python/\n",
    "\n",
    "#Load Libraries\n",
    "from oauth2client.service_account import ServiceAccountCredentials\n",
    "from googleapiclient.discovery import build\n",
    "import httplib2\n",
    " \n",
    "SCOPES = ['https://www.googleapis.com/auth/analytics.readonly']\n",
    "KEY_FILE_LOCATION = '/content/drive/MyDrive/REPLACE_AS_NEEDED.json'\n",
    "\n",
    "\n",
    "#Create service credentials\n",
    "#Rename your JSON key to client_secrets.json and save it to your working folder\n",
    "# ML: I overwrote the client_secrets.json to be the file json I downloaded from console.cloud.google.com\n",
    "credentials = ServiceAccountCredentials.from_json_keyfile_name(KEY_FILE_LOCATION, SCOPES)\n",
    "  \n",
    "#Create a service object\n",
    "http = credentials.authorize(httplib2.Http())\n",
    "service = build('analyticsreporting', 'v4', http=http, discoveryServiceUrl=('https://analyticsreporting.googleapis.com/$discovery/rest'))"
   ]
  },
  {
   "cell_type": "markdown",
   "metadata": {
    "id": "5i3J-U9BDJkk"
   },
   "source": [
    "## What parameters should we be querying? "
   ]
  },
  {
   "cell_type": "code",
   "execution_count": 3,
   "metadata": {
    "executionInfo": {
     "elapsed": 142,
     "status": "ok",
     "timestamp": 1685647414850,
     "user": {
      "displayName": "Mitch Leeson",
      "userId": "11221494451302042152"
     },
     "user_tz": 240
    },
    "id": "Zpqs9Quy6LOz"
   },
   "outputs": [],
   "source": [
    "# Select the GA parameters to grab\n",
    "viewId = 'REPLACE_AS_NEEDED' # Don't change for CRO stuff - Optimize tests are only linked to No Filters\n",
    "startDate = '2023-05-14'\n",
    "endDate = '2023-05-29'"
   ]
  },
  {
   "cell_type": "markdown",
   "metadata": {
    "id": "QMpQ3Uw8DQWF"
   },
   "source": [
    "## Grab the data"
   ]
  },
  {
   "cell_type": "code",
   "execution_count": 9,
   "metadata": {
    "executionInfo": {
     "elapsed": 2972,
     "status": "ok",
     "timestamp": 1685647764080,
     "user": {
      "displayName": "Mitch Leeson",
      "userId": "11221494451302042152"
     },
     "user_tz": 240
    },
    "id": "UhFyGF44qsiM"
   },
   "outputs": [],
   "source": [
    "def ga_to_dataframe(response):\n",
    "    # create a dictionary to hold our data\n",
    "    data_dict = {}\n",
    "  \n",
    "    # Extract Data\n",
    "    for report in response.get('reports', []):\n",
    "  \n",
    "        columnHeader = report.get('columnHeader', {})\n",
    "        dimensionHeaders = columnHeader.get('dimensions', [])\n",
    "        metricHeaders = columnHeader.get('metricHeader', {}).get('metricHeaderEntries', [])\n",
    "        rows = report.get('data', {}).get('rows', [])\n",
    "  \n",
    "        for row in rows:\n",
    "            dimensions = row.get('dimensions', [])\n",
    "            dateRangeValues = row.get('metrics', [])\n",
    "  \n",
    "            for header, dimension in zip(dimensionHeaders, dimensions):\n",
    "                if header not in data_dict:\n",
    "                    data_dict[header] = [dimension]\n",
    "                else:\n",
    "                    data_dict[header].append(dimension)\n",
    "  \n",
    "            for i, values in enumerate(dateRangeValues):\n",
    "                for metricHeader, value in zip(metricHeaders, values.get('values')):\n",
    "                    if metricHeader.get('name') not in data_dict:\n",
    "                        data_dict[metricHeader.get('name')] = [value]\n",
    "                    else:\n",
    "                        data_dict[metricHeader.get('name')].append(value)\n",
    "    \n",
    "    # Convert the dictionary into a DataFrame\n",
    "    df = pd.DataFrame(data_dict)\n",
    "    return df\n",
    "\n",
    "\n",
    "response = service.reports().batchGet(\n",
    "    body={\n",
    "        'reportRequests': [\n",
    "            {\n",
    "                'viewId': viewId, #Add View ID from GA\n",
    "                'dateRanges': [{'startDate': startDate, 'endDate': endDate}],\n",
    "                'metrics': [{'expression': 'ga:itemRevenue'}, {'expression': 'ga:transactionRevenue'}, {'expression': 'ga:itemQuantity'}], \n",
    "                'dimensions': [{\"name\": \"ga:experimentCombination\"}, {\"name\": \"ga:transactionId\"}, {\"name\": \"ga:experimentName\"}], \n",
    "                'orderBys': [{\"fieldName\": \"ga:transactionRevenue\", \"sortOrder\": \"ASCENDING\"}], \n",
    "                'pageSize': 100000\n",
    "            }]\n",
    "    }\n",
    ").execute()\n",
    "\n",
    "df = ga_to_dataframe(response)"
   ]
  },
  {
   "cell_type": "code",
   "execution_count": null,
   "metadata": {
    "colab": {
     "base_uri": "https://localhost:8080/",
     "height": 424
    },
    "executionInfo": {
     "elapsed": 158,
     "status": "ok",
     "timestamp": 1685647785658,
     "user": {
      "displayName": "Mitch Leeson",
      "userId": "11221494451302042152"
     },
     "user_tz": 240
    },
    "id": "-oVjh86-tG6n",
    "outputId": "5291984c-c865-4c79-ddd0-a20a37412b92"
   },
   "outputs": [],
   "source": [
    "df['ga:itemRevenue'] = df['ga:itemRevenue'].astype(float)\n",
    "df['ga:transactionRevenue'] = df['ga:transactionRevenue'].astype(float)\n",
    "df['ga:itemQuantity'] = df['ga:itemQuantity'].astype(int)"
   ]
  },
  {
   "cell_type": "markdown",
   "metadata": {
    "id": "afeOhWNm7Eg6"
   },
   "source": [
    "## Do the hypothesis testing"
   ]
  },
  {
   "cell_type": "markdown",
   "metadata": {
    "id": "-lECXymZDadJ"
   },
   "source": [
    "### What experiment are we testing for? Find the <i>Experiment ID with Variant</i> for the specific test."
   ]
  },
  {
   "cell_type": "code",
   "execution_count": 11,
   "metadata": {
    "executionInfo": {
     "elapsed": 145,
     "status": "ok",
     "timestamp": 1685647789115,
     "user": {
      "displayName": "Mitch Leeson",
      "userId": "11221494451302042152"
     },
     "user_tz": 240
    },
    "id": "YG9Xm-eotIL0"
   },
   "outputs": [],
   "source": [
    "# What experiment are we testing for? Replace with your experiment ID - the 0 and 1 indicate whether a user was in the control or variant\n",
    "ID_original = 'REPLACE_AS_NEEDED:0'\n",
    "ID_variant = 'REPLACE_AS_NEEDED:1' # Removal of optional selectors"
   ]
  },
  {
   "cell_type": "code",
   "execution_count": 12,
   "metadata": {
    "colab": {
     "base_uri": "https://localhost:8080/"
    },
    "executionInfo": {
     "elapsed": 209,
     "status": "ok",
     "timestamp": 1685647791102,
     "user": {
      "displayName": "Mitch Leeson",
      "userId": "11221494451302042152"
     },
     "user_tz": 240
    },
    "id": "usR8t7FT7q1T",
    "outputId": "30850c9f-ee46-45d8-8061-566bdac0e028"
   },
   "outputs": [
    {
     "name": "stdout",
     "output_type": "stream",
     "text": [
      "length of original: 584\n",
      "length of variant: 566\n"
     ]
    }
   ],
   "source": [
    "# Filter for just the transactions that happened in the original \n",
    "original = df[(df['ga:experimentCombination'] == ID_original) & (df['ga:itemQuantity'] > 0)]\n",
    "variant = df[(df['ga:experimentCombination'] == ID_variant) & (df['ga:itemQuantity'] > 0)]\n",
    "\n",
    "print('length of original:', len(original))\n",
    "print('length of variant:', len(variant))"
   ]
  },
  {
   "cell_type": "code",
   "execution_count": 14,
   "metadata": {
    "executionInfo": {
     "elapsed": 155,
     "status": "ok",
     "timestamp": 1685647809254,
     "user": {
      "displayName": "Mitch Leeson",
      "userId": "11221494451302042152"
     },
     "user_tz": 240
    },
    "id": "oy7rcdlk8IF1"
   },
   "outputs": [],
   "source": [
    "# take just the revenue values from each original and variant\n",
    "original_test = original['ga:itemRevenue']\n",
    "variant_test = variant['ga:itemRevenue']"
   ]
  },
  {
   "cell_type": "code",
   "execution_count": 19,
   "metadata": {
    "colab": {
     "base_uri": "https://localhost:8080/"
    },
    "executionInfo": {
     "elapsed": 226,
     "status": "ok",
     "timestamp": 1685649277803,
     "user": {
      "displayName": "Mitch Leeson",
      "userId": "11221494451302042152"
     },
     "user_tz": 240
    },
    "id": "NbA0ms1q-hLT",
    "outputId": "4d84bcb8-a587-4504-9d39-6f0e95aa4371"
   },
   "outputs": [
    {
     "name": "stdout",
     "output_type": "stream",
     "text": [
      "Original Mean: $1,137.48\n",
      "Variant Mean: $1,212.42\n",
      "Difference: $74.94\n",
      "\n",
      "Original Variance: $714,423.00\n",
      "Variant Variance: $738,827.11\n",
      "\n",
      "Original Sum of Rev.: $664,288.81\n",
      "Variant Sum of Rev.: $686,231.63\n"
     ]
    }
   ],
   "source": [
    "# What are the means and variances? PRODUCT/ITEM REVENUE\n",
    "original_mean = original['ga:itemRevenue'].mean()\n",
    "variant_mean = variant['ga:itemRevenue'].mean()\n",
    "difference = variant_mean - original_mean\n",
    "\n",
    "original_var = original['ga:itemRevenue'].var()\n",
    "variant_var = variant['ga:itemRevenue'].var()\n",
    "\n",
    "original_sum = original['ga:itemRevenue'].sum()\n",
    "variant_sum = variant['ga:itemRevenue'].sum()\n",
    "\n",
    "print(f\"Original Mean: ${original_mean:,.2f}\")\n",
    "print(f\"Variant Mean: ${variant_mean:,.2f}\")\n",
    "print(f\"Difference: ${difference:,.2f}\")\n",
    "print(f\"\\nOriginal Variance: ${original_var:,.2f}\")\n",
    "print(f\"Variant Variance: ${variant_var:,.2f}\")\n",
    "print(f\"\\nOriginal Sum of Rev.: ${original_sum:,.2f}\")\n",
    "print(f\"Variant Sum of Rev.: ${variant_sum:,.2f}\")"
   ]
  },
  {
   "cell_type": "code",
   "execution_count": 16,
   "metadata": {
    "colab": {
     "base_uri": "https://localhost:8080/"
    },
    "executionInfo": {
     "elapsed": 597,
     "status": "ok",
     "timestamp": 1685647813735,
     "user": {
      "displayName": "Mitch Leeson",
      "userId": "11221494451302042152"
     },
     "user_tz": 240
    },
    "id": "fqd928dF-JBr",
    "outputId": "09d9ddfa-548c-4165-cf0c-c687132097c9"
   },
   "outputs": [
    {
     "name": "stdout",
     "output_type": "stream",
     "text": [
      "t-statistics: -1.4907199638083692 \n",
      "p-value: 0.06815486702131768\n"
     ]
    }
   ],
   "source": [
    "# Do the Hypothesis Test\n",
    "from scipy.stats import t\n",
    "from scipy.stats import ttest_ind\n",
    "\n",
    "# What are the t stat and p-values?\n",
    "t_stat, pvalue = ttest_ind(original_test, variant_test, alternative = 'less')\n",
    "\n",
    "print('t-statistics:', t_stat, '\\np-value:', pvalue)"
   ]
  },
  {
   "cell_type": "code",
   "execution_count": null,
   "metadata": {
    "id": "_-px8_Jv-Ry1"
   },
   "outputs": [],
   "source": []
  }
 ],
 "metadata": {
  "colab": {
   "authorship_tag": "ABX9TyNykcIXtBkktZpFHkbWgDHE",
   "provenance": []
  },
  "kernelspec": {
   "display_name": "Python 3 (ipykernel)",
   "language": "python",
   "name": "python3"
  },
  "language_info": {
   "codemirror_mode": {
    "name": "ipython",
    "version": 3
   },
   "file_extension": ".py",
   "mimetype": "text/x-python",
   "name": "python",
   "nbconvert_exporter": "python",
   "pygments_lexer": "ipython3",
   "version": "3.9.7"
  }
 },
 "nbformat": 4,
 "nbformat_minor": 1
}
